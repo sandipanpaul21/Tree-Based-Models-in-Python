{
  "nbformat": 4,
  "nbformat_minor": 0,
  "metadata": {
    "colab": {
      "name": "09 Random Forest.ipynb",
      "provenance": [],
      "collapsed_sections": [],
      "authorship_tag": "ABX9TyMyaoinF2t49k48AfgKEW98",
      "include_colab_link": true
    },
    "kernelspec": {
      "name": "python3",
      "display_name": "Python 3"
    },
    "language_info": {
      "name": "python"
    }
  },
  "cells": [
    {
      "cell_type": "markdown",
      "metadata": {
        "id": "view-in-github",
        "colab_type": "text"
      },
      "source": [
        "<a href=\"https://colab.research.google.com/github/sandipanpaul21/Tree-Based-Models-in-Python/blob/master/09_Random_Forest.ipynb\" target=\"_parent\"><img src=\"https://colab.research.google.com/assets/colab-badge.svg\" alt=\"Open In Colab\"/></a>"
      ]
    },
    {
      "cell_type": "markdown",
      "metadata": {
        "id": "vKn3iXwy6EQF"
      },
      "source": [
        "#### **Random forests — An ensemble of decision trees**\n",
        "\n",
        "First, we discuss some of the drawbacks of the Decision Tree algorithm. This will motivate you to use Random Forests.\n",
        "\n",
        "1. Small changes to training data can result in a significantly different tree structure.\n",
        "2. It may have the problem of overfitting (the model fits the training data very well but it fails to generalize for new input data) unless you tune the model hyperparameter of max_depth.\n",
        "\n",
        "So, instead of training a single decision tree, it is better to train a group of decision trees which together make a random forest.\n",
        "\n",
        "#### **How random forests work behind the scenes**\n",
        "\n",
        "The main two concepts behind random forests are:\n",
        "1. **The wisdom of the crowd —** a large group of people are collectively smarter than individual experts\n",
        "2. **Diversification —** a set of uncorrelated tress\n",
        "\n",
        "A random forest consists of a group (an ensemble) of individual decision trees. Therefore, the technique is called **Ensemble Learning**. \n",
        "\n",
        "A large group of uncorrelated decision trees can produce more accurate and stable results than any of individual decision trees. When you train a random forest for a classification task, you actually train a group of decision trees. Then you obtain the predictions of all the individual trees and predict the class that gets the most votes. Although some individual trees produce wrong predictions, many can produce accurate predictions. As a group, they can move towards accurate predictions. This is called the wisdom of the crowd. \n",
        "\n",
        "To maintain a low correlation (high diversification) between individual trees, the algorithm automatically considers the following things.\n",
        "\n",
        "1. Feature randomness\n",
        "\n",
        "2. Bagging (bootstrap aggregating)\n",
        "\n",
        "**Feature randomness**\n",
        "\n",
        "- In a normal decision tree, the algorithm searches very best feature out of all the features when it wants to split a node. \n",
        "- In contrast, each tree in a random forest searches very best feature out of a random subset of features. \n",
        "- This creates extra randomness when growing the tress inside a random forest. Because of feature randomness, the decision trees in a random forest are uncorrelated.\n",
        "\n",
        "![Feature Randomness](https://miro.medium.com/max/1400/1*h59804V5gNRmQFKdzmkGGw.png)"
      ]
    },
    {
      "cell_type": "markdown",
      "metadata": {
        "id": "bavrN8l86hPw"
      },
      "source": [
        "**Bagging (bootstrap aggregating)**\n",
        "\n",
        "- In a random forest, each decision tree is trained on a different random sample of the training set. \n",
        "- When sampling is done with replacement, the method is called *bagging (bootstrap aggregating)*. In statistics, resampling with replacement is called bootstrapping. The bootstrap method reduces the correlation between decision trees. \n",
        "- In a decision tree, small changes to training data can result in a significantly different tree structure. The bootstrap method takes the advantage of this to produce uncorrelated trees. \n",
        "- We can demonstrate the bootstrap method with the following simple example. The same thing applies in the random forest.\n",
        "  1. Imagine that we have a training set of 10 observations which are numbered from 1–10. Out of these observations, we perform sampling using the bootstrap method. \n",
        "  2. We want to consider: \n",
        "    \n",
        "    i. Sample size — In machine learning, it is common to use a sample size that is the same as the training set. In this example, the sample size is 10.\n",
        "\n",
        "    ii. The number of samples — This is equal to the number of decision trees in the random forest.\n",
        "    \n",
        "    iii. To create the first sample, we randomly choose an observation from the training set. Let’s say it is the 5th observation. This observation is returned to the training dataset and we repeat the process until we make the entire sample. After the entire process, imagine that we make the first sample with the following observations.\n",
        "    Sample_1 = [5, 4, 6, 6, 5, 1, 3, 2, 10, 9]\n",
        "    \n",
        "    iv. Then we train a decision tree with this sample. Because of the replacement, some observations may appear more times in the sample. \n",
        "    \n",
        "    v. Also, note that some observations don’t appear at least 1 time in the sample. Those observations are called out-of-bag (oob) observations. The oob observations for the first sample are:\n",
        "    \n",
        "    oob_1 = [7, 8]\n",
        "\n",
        "    vi. The decision tree corresponding to sample 1 never sees those oob observations during the training process. So, this set of oob observations can be used as a validation set for that decision tree. \n",
        "\n",
        "    vii. We can evaluate the entire ensemble by averaging out the oob evaluations of each decision tree. This is called the **out-of-bag evaluation** which is an alternative to cross-validation.\n",
        "  \n",
        "  3. Let’s create another sample.\n",
        "\n",
        "    Sample_2 = [5, 4, 4, 5, 5, 1, 3, 2, 10, 9]\n",
        "  \n",
        "    oob_2 = [6, 7, 8]\n",
        "\n",
        "- Likewise, we create a number of samples that is equal to the number of decision trees in the random forest.\n",
        "\n",
        "![](https://miro.medium.com/max/1400/1*-BtU2gT8Og5RE-BybDA9iQ.png)"
      ]
    },
    {
      "cell_type": "markdown",
      "metadata": {
        "id": "zmsSwpNptcjc"
      },
      "source": [
        "#### **Feature importance in a random forest**\n",
        "\n",
        "- Another great advantage of a random forest is that it allows you to get an idea about the relative importance of each feature based on a score computed during the training phase. \n",
        "\n",
        "- For this, he Scikit-learn RandomForestClassifier provides an attribute called feature_importances_. \n",
        "  - This returns an array of values which sum to 1. \n",
        "  - The higher the score, the more important the feature. \n",
        "  - The score is calculated based on the Gini impurity which measures the quality of a split (the lower the Gini, the better the split). \n",
        "  - Features with splits that have a greater mean decrease in Gini impurity are considered more important.\n",
        "\n",
        "- By looking at the feature importance, you can decide which features to drop because they don’t contribute enough for making the model. This is important because of the following reasons.\n",
        "  - Removing the least important features will increase the accuracy of the model. \n",
        "  - This is because we remove the noise by removing unnecessary features\n",
        "  - By removing the unnecessary features, you will avoid the problem of overfitting.\n",
        "  - A lesser amount of features also reduces training time."
      ]
    },
    {
      "cell_type": "code",
      "metadata": {
        "colab": {
          "base_uri": "https://localhost:8080/"
        },
        "id": "ycrWx04vAxJR",
        "outputId": "d419109c-12ea-4528-f398-699a7c69fcc1"
      },
      "source": [
        "# Libraries\n",
        "from sklearn import datasets\n",
        "import pandas as pd\n",
        "import warnings\n",
        "warnings.filterwarnings(\"ignore\")\n",
        "\n",
        "# Loading Dataset\n",
        "boston_dataset = datasets.load_diabetes()\n",
        "\n",
        "breast = datasets.load_breast_cancer()\n",
        "df = pd.DataFrame(breast.data)\n",
        "df.columns = breast.feature_names\n",
        "df[\"WINE_TYPE\"] = breast.target\n",
        "X = df.drop('WINE_TYPE',axis = 1)\n",
        "y = df['WINE_TYPE']\n",
        "\n",
        "# summarize the dataset\n",
        "print(\"Size of X and y :\")\n",
        "print(X.shape, y.shape)\n",
        "print(\"\\n\")\n",
        "print(\"Dataset Sample (BREAST CANCER DATASET)\")\n",
        "print(df.head())"
      ],
      "execution_count": null,
      "outputs": [
        {
          "output_type": "stream",
          "name": "stdout",
          "text": [
            "Size of X and y :\n",
            "(569, 30) (569,)\n",
            "\n",
            "\n",
            "Dataset Sample (BREAST CANCER DATASET)\n",
            "   mean radius  mean texture  ...  worst fractal dimension  WINE_TYPE\n",
            "0        17.99         10.38  ...                  0.11890          0\n",
            "1        20.57         17.77  ...                  0.08902          0\n",
            "2        19.69         21.25  ...                  0.08758          0\n",
            "3        11.42         20.38  ...                  0.17300          0\n",
            "4        20.29         14.34  ...                  0.07678          0\n",
            "\n",
            "[5 rows x 31 columns]\n"
          ]
        }
      ]
    },
    {
      "cell_type": "code",
      "metadata": {
        "colab": {
          "base_uri": "https://localhost:8080/"
        },
        "id": "LvJdA1gEwvPN",
        "outputId": "31b86f6a-3c06-4a79-de0c-4c7eedcf1702"
      },
      "source": [
        "# We will evaluate the model using repeated stratified k-fold cross-validation with three repeats and 10 folds. \n",
        "# We will report the mean and standard deviation of the accuracy of the model across all repeats and folds.\n",
        "\n",
        "# evaluate random forest algorithm for classification\n",
        "from numpy import mean\n",
        "from numpy import std\n",
        "from sklearn.datasets import make_classification\n",
        "from sklearn.model_selection import cross_val_score\n",
        "from sklearn.model_selection import RepeatedStratifiedKFold\n",
        "from sklearn.ensemble import RandomForestClassifier\n",
        "\n",
        "# define the model\n",
        "model = RandomForestClassifier()\n",
        "print(model)\n",
        "\n",
        "# evaluate the model\n",
        "cv = RepeatedStratifiedKFold(n_splits=10, n_repeats=3, random_state=1)\n",
        "print(cv)\n",
        "n_scores = cross_val_score(model, X, y, scoring='accuracy', cv=cv, n_jobs=-1, error_score='raise')\n",
        "print(\"\\n\")\n",
        "# report performance\n",
        "print('Accuracy: %.3f (%.3f)' % (mean(n_scores), std(n_scores)))\n",
        "\n",
        "# Inference : \n",
        "# In this case, we can see the random forest ensemble with default hyperparameters \n",
        "# It achieves a classification accuracy of about 96 percent."
      ],
      "execution_count": null,
      "outputs": [
        {
          "output_type": "stream",
          "name": "stdout",
          "text": [
            "RandomForestClassifier()\n",
            "RepeatedStratifiedKFold(n_repeats=3, n_splits=10, random_state=1)\n",
            "\n",
            "\n",
            "Accuracy: 0.960 (0.032)\n"
          ]
        }
      ]
    },
    {
      "cell_type": "markdown",
      "metadata": {
        "id": "TPjRrptKy1PH"
      },
      "source": [
        "### **Random Forest Hyperparameters**\n",
        "\n",
        "**Explore Number of Samples**\n",
        "\n",
        "- Each decision tree in the ensemble is fit on a bootstrap sample drawn from the training dataset.\n",
        "- This can be turned off by setting the “bootstrap” argument to False, if you desire. In that case, the whole training dataset will be used to train each decision tree. This is not recommended.\n",
        "- The “max_samples” argument can be set to a float between 0 and 1 to control the percentage of the size of the training dataset to make the bootstrap sample used to train each decision tree.\n",
        "- For example, if the training dataset has 100 rows, the max_samples argument could be set to 0.5 and each decision tree will be fit on a bootstrap sample with (100 * 0.5) or 50 rows of data.\n",
        "- A smaller sample size will make trees more different, and a larger sample size will make the trees more similar. Setting max_samples to “None” will make the sample size the same size as the training dataset and this is the default.\n",
        "\n",
        "The example below demonstrates the effect of different bootstrap sample sizes from 10 percent to 100 percent on the random forest algorithm."
      ]
    },
    {
      "cell_type": "code",
      "metadata": {
        "colab": {
          "base_uri": "https://localhost:8080/",
          "height": 481
        },
        "id": "2obPTo93xg9x",
        "outputId": "19fef32f-8c9c-4002-ce51-e99e5e851796"
      },
      "source": [
        "# explore random forest bootstrap sample size on performance\n",
        "from numpy import mean\n",
        "from numpy import std\n",
        "from numpy import arange\n",
        "from sklearn.datasets import make_classification\n",
        "from sklearn.model_selection import cross_val_score\n",
        "from sklearn.model_selection import RepeatedStratifiedKFold\n",
        "from sklearn.ensemble import RandomForestClassifier\n",
        "from matplotlib import pyplot\n",
        "\n",
        "print(\"% of Sample Size vs Accuracy of the Model\")  \n",
        "# get a list of models to evaluate\n",
        "def get_models():\n",
        "\tmodels = dict()\n",
        "\t# explore ratios from 10% to 100% in 10% increments\n",
        "\tfor i in arange(0.1, 1.1, 0.1):\n",
        "\t\tkey = '%.1f' % i\n",
        "\t\t# set max_samples=None to use 100%\n",
        "\t\tif i == 1.0:\n",
        "\t\t\ti = None\n",
        "\t\tmodels[key] = RandomForestClassifier(max_samples=i)\n",
        "\treturn models\n",
        " \n",
        "# evaluate a given model using cross-validation\n",
        "def evaluate_model(model, X, y):\n",
        "\t# define the evaluation procedure\n",
        "\tcv = RepeatedStratifiedKFold(n_splits=10, n_repeats=3, random_state=1)\n",
        "\t# evaluate the model and collect the results\n",
        "\tscores = cross_val_score(model, X, y, scoring='accuracy', cv=cv, n_jobs=-1)\n",
        "\treturn scores\n",
        " \n",
        "# get the models to evaluate\n",
        "models = get_models()\n",
        "\n",
        "# evaluate the models and store results\n",
        "results, names = list(), list()\n",
        "for name, model in models.items():\n",
        "\t# evaluate the model\n",
        "\tscores = evaluate_model(model, X, y)\n",
        "\t# store the results\n",
        "\tresults.append(scores)\n",
        "\tnames.append(name)\n",
        "\t# summarize the performance along the way\n",
        "\tprint('>%s %.3f (%.3f)' % (name, mean(scores), std(scores)))\n",
        "\n",
        "print(\"BOX PLOT OF RANDOM FOREST BOOTSTRAP SAMPLE SIZE vs CLASSIFICATION ACCURACY\")\n",
        "# plot model performance for comparison\n",
        "pyplot.boxplot(results, labels=names, showmeans=True)\n",
        "pyplot.show()"
      ],
      "execution_count": null,
      "outputs": [
        {
          "output_type": "stream",
          "name": "stdout",
          "text": [
            "% of Sample Size vs Accuracy of the Model\n",
            ">0.1 0.947 (0.032)\n",
            ">0.2 0.952 (0.028)\n",
            ">0.3 0.954 (0.030)\n",
            ">0.4 0.955 (0.030)\n",
            ">0.5 0.956 (0.028)\n",
            ">0.6 0.960 (0.028)\n",
            ">0.7 0.956 (0.032)\n",
            ">0.8 0.958 (0.028)\n",
            ">0.9 0.960 (0.025)\n",
            ">1.0 0.963 (0.025)\n",
            "BOX PLOT OF RANDOM FOREST BOOTSTRAP SAMPLE SIZE vs CLASSIFICATION ACCURACY\n"
          ]
        },
        {
          "output_type": "display_data",
          "data": {
            "image/png": "[encoded data removed]",
            "text/plain": [
              "<Figure size 432x288 with 1 Axes>"
            ]
          },
          "metadata": {
            "needs_background": "light"
          }
        }
      ]
    },
    {
      "cell_type": "markdown",
      "metadata": {
        "id": "SGqjNhhyyZRw"
      },
      "source": [
        "- In this case, the results suggest that using a bootstrap sample size that is equal to the size of the training dataset achieves the best results on this dataset.\n",
        "- A box and whisker plot is created for the distribution of accuracy scores for each bootstrap sample size.\n",
        "- In this case, we can see a general trend that the larger the sample, the better the performance of the model"
      ]
    },
    {
      "cell_type": "markdown",
      "metadata": {
        "id": "evdVvGFvzT9P"
      },
      "source": [
        "**Explore Number of Features**\n",
        "\n",
        "- The number of features that is randomly sampled for each split point is perhaps the most important feature to configure for random forest.\n",
        "\n",
        "- It is set via the max_features argument and defaults to the square root of the number of input features. In this case, for our test dataset, this would be sqrt(30) or about ~5 features (will take all 30 features for now).\n",
        "\n",
        "The example below explores the effect of the number of features randomly selected at each split point on model accuracy. We will try values from 1 to 30 and would expect a small value, around four, to perform well based on the heuristic."
      ]
    },
    {
      "cell_type": "code",
      "metadata": {
        "colab": {
          "base_uri": "https://localhost:8080/",
          "height": 823
        },
        "id": "A-iEkP8_yI1e",
        "outputId": "3b02f073-4ae3-4a31-fe76-687bdeb3a859"
      },
      "source": [
        "# explore random forest number of features effect on performance\n",
        "from numpy import mean\n",
        "from numpy import std\n",
        "from sklearn.datasets import make_classification\n",
        "from sklearn.model_selection import cross_val_score\n",
        "from sklearn.model_selection import RepeatedStratifiedKFold\n",
        "from sklearn.ensemble import RandomForestClassifier\n",
        "from matplotlib import pyplot\n",
        "\n",
        "print(\"Number of Feature vs Accuracy\")\n",
        "# get a list of models to evaluate\n",
        "def get_models():\n",
        "\tmodels = dict()\n",
        "\t# explore number of features from 1 to 30\n",
        "\tfor i in range(1,30):\n",
        "\t\tmodels[str(i)] = RandomForestClassifier(max_features=i)\n",
        "\treturn models\n",
        " \n",
        "# evaluate a given model using cross-validation\n",
        "def evaluate_model(model, X, y):\n",
        "\t# define the evaluation procedure\n",
        "\tcv = RepeatedStratifiedKFold(n_splits=10, n_repeats=3, random_state=1)\n",
        "\t# evaluate the model and collect the results\n",
        "\tscores = cross_val_score(model, X, y, scoring='accuracy', cv=cv, n_jobs=-1)\n",
        "\treturn scores\n",
        " \n",
        "# get the models to evaluate\n",
        "models = get_models()\n",
        "# evaluate the models and store results\n",
        "results, names = list(), list()\n",
        "for name, model in models.items():\n",
        "\t# evaluate the model\n",
        "\tscores = evaluate_model(model, X, y)\n",
        "\t# store the results\n",
        "\tresults.append(scores)\n",
        "\tnames.append(name)\n",
        "\t# summarize the performance along the way\n",
        "\tprint('>%s %.3f (%.3f)' % (name, mean(scores), std(scores)))\n",
        "\n",
        "print(\"BOX PLOT of RANDOM FOREST FEATURE SET vs CLASSIFICATION ACCURACY\")\n",
        "# plot model performance for comparison\n",
        "pyplot.boxplot(results, labels=names, showmeans=True)\n",
        "pyplot.show()"
      ],
      "execution_count": null,
      "outputs": [
        {
          "output_type": "stream",
          "name": "stdout",
          "text": [
            "Number of Feature vs Accuracy\n",
            ">1 0.961 (0.022)\n",
            ">2 0.960 (0.027)\n",
            ">3 0.960 (0.026)\n",
            ">4 0.961 (0.029)\n",
            ">5 0.961 (0.024)\n",
            ">6 0.958 (0.031)\n",
            ">7 0.964 (0.027)\n",
            ">8 0.962 (0.027)\n",
            ">9 0.961 (0.027)\n",
            ">10 0.963 (0.028)\n",
            ">11 0.964 (0.027)\n",
            ">12 0.961 (0.029)\n",
            ">13 0.962 (0.028)\n",
            ">14 0.964 (0.027)\n",
            ">15 0.962 (0.027)\n",
            ">16 0.962 (0.027)\n",
            ">17 0.960 (0.025)\n",
            ">18 0.960 (0.027)\n",
            ">19 0.959 (0.027)\n",
            ">20 0.959 (0.027)\n",
            ">21 0.962 (0.026)\n",
            ">22 0.957 (0.024)\n",
            ">23 0.958 (0.026)\n",
            ">24 0.960 (0.028)\n",
            ">25 0.959 (0.028)\n",
            ">26 0.958 (0.027)\n",
            ">27 0.960 (0.028)\n",
            ">28 0.958 (0.027)\n",
            ">29 0.957 (0.025)\n",
            "BOX PLOT of RANDOM FOREST FEATURE SET vs CLASSIFICATION ACCURACY\n"
          ]
        },
        {
          "output_type": "display_data",
          "data": {
            "image/png": "[encoded data removed]",
            "text/plain": [
              "<Figure size 432x288 with 1 Axes>"
            ]
          },
          "metadata": {
            "needs_background": "light"
          }
        }
      ]
    },
    {
      "cell_type": "markdown",
      "metadata": {
        "id": "QsYzTr-UzmFM"
      },
      "source": [
        "- In this case, the results suggest that a value of four on this dataset. \n",
        "- A box and whisker plot is created for the distribution of accuracy scores for each feature set size.\n",
        "- We can see a trend in performance rising and peaking with value 7."
      ]
    },
    {
      "cell_type": "markdown",
      "metadata": {
        "id": "xAMwnNms37aL"
      },
      "source": [
        "**Explore Number of Trees**\n",
        "- The number of trees is another key hyperparameter to configure for the random forest.\n",
        "- Typically, the number of trees is increased until the model performance stabilizes. Intuition might suggest that more trees will lead to overfitting, although this is not the case. \n",
        "- Both bagging and random forest algorithms appear to be somewhat immune to overfitting the training dataset given the stochastic nature of the learning algorithm.\n",
        "- The number of trees can be set via the “n_estimators” argument and defaults to 100.\n",
        "\n",
        "The example below explores the effect of the number of trees with values between 10 to 1,000."
      ]
    },
    {
      "cell_type": "code",
      "metadata": {
        "colab": {
          "base_uri": "https://localhost:8080/",
          "height": 391
        },
        "id": "_LvdImLOzlFR",
        "outputId": "5c3ee2db-8b53-47ac-ceb8-259b98ecbb47"
      },
      "source": [
        "# explore random forest number of trees effect on performance\n",
        "from numpy import mean\n",
        "from numpy import std\n",
        "from sklearn.datasets import make_classification\n",
        "from sklearn.model_selection import cross_val_score\n",
        "from sklearn.model_selection import RepeatedStratifiedKFold\n",
        "from sklearn.ensemble import RandomForestClassifier\n",
        "from matplotlib import pyplot\n",
        "\n",
        "print(\"Number of Trees vs Model Accuracy\")\n",
        "# get a list of models to evaluate\n",
        "def get_models():\n",
        "\tmodels = dict()\n",
        "\t# define number of trees to consider\n",
        "\tn_trees = [10, 50, 100, 500, 1000]\n",
        "\tfor n in n_trees:\n",
        "\t\tmodels[str(n)] = RandomForestClassifier(n_estimators=n)\n",
        "\treturn models\n",
        "\n",
        "# evaluate a given model using cross-validation\n",
        "def evaluate_model(model, X, y):\n",
        "\t# define the evaluation procedure\n",
        "\tcv = RepeatedStratifiedKFold(n_splits=10, n_repeats=3, random_state=1)\n",
        "\t# evaluate the model and collect the results\n",
        "\tscores = cross_val_score(model, X, y, scoring='accuracy', cv=cv, n_jobs=-1)\n",
        "\treturn scores\n",
        "\n",
        "# get the models to evaluate\n",
        "models = get_models()\n",
        "# evaluate the models and store results\n",
        "results, names = list(), list()\n",
        "for name, model in models.items():\n",
        "\t# evaluate the model\n",
        "\tscores = evaluate_model(model, X, y)\n",
        "\t# store the results\n",
        "\tresults.append(scores)\n",
        "\tnames.append(name)\n",
        "\t# summarize the performance along the way\n",
        "\tprint('>%s %.3f (%.3f)' % (name, mean(scores), std(scores)))\n",
        "\n",
        "print(\"BOX PLOT OF RANDOM FOREST ENSEMBLE SIZE vs CLASSIFICATION ACCURACY\")\n",
        "# plot model performance for comparison\n",
        "pyplot.boxplot(results, labels=names, showmeans=True)\n",
        "pyplot.show()"
      ],
      "execution_count": null,
      "outputs": [
        {
          "output_type": "stream",
          "name": "stdout",
          "text": [
            "Number of Trees vs Model Accuracy\n",
            ">10 0.950 (0.027)\n",
            ">50 0.965 (0.029)\n",
            ">100 0.962 (0.028)\n",
            ">500 0.960 (0.028)\n",
            ">1000 0.960 (0.027)\n",
            "BOX PLOT OF RANDOM FOREST ENSEMBLE SIZE vs CLASSIFICATION ACCURACY\n"
          ]
        },
        {
          "output_type": "display_data",
          "data": {
            "image/png": "[encoded data removed]",
            "text/plain": [
              "<Figure size 432x288 with 1 Axes>"
            ]
          },
          "metadata": {
            "needs_background": "light"
          }
        }
      ]
    },
    {
      "cell_type": "markdown",
      "metadata": {
        "id": "7H7EThKB4bum"
      },
      "source": [
        "In this case, we can see that performance rises and stays flat after about 100 trees. "
      ]
    },
    {
      "cell_type": "markdown",
      "metadata": {
        "id": "4MkDzc-q4oGY"
      },
      "source": [
        "**Explore Tree Depth**\n",
        "- A final interesting hyperparameter is the maximum depth of decision trees used in the ensemble.\n",
        "- By default, trees are constructed to an arbitrary depth and are not pruned. This is a sensible default, although we can also explore fitting trees with different fixed depths.\n",
        "- The maximum tree depth can be specified via the max_depth argument and is set to None (no maximum depth) by default.\n",
        "\n",
        "The example below explores the effect of random forest maximum tree depth on model performance."
      ]
    },
    {
      "cell_type": "code",
      "metadata": {
        "colab": {
          "base_uri": "https://localhost:8080/",
          "height": 445
        },
        "id": "NLYGHLIc4Uhq",
        "outputId": "673decd3-237b-4aa1-a12e-4a9d288f9fb7"
      },
      "source": [
        "# explore random forest tree depth effect on performance\n",
        "from numpy import mean\n",
        "from numpy import std\n",
        "from sklearn.datasets import make_classification\n",
        "from sklearn.model_selection import cross_val_score\n",
        "from sklearn.model_selection import RepeatedStratifiedKFold\n",
        "from sklearn.ensemble import RandomForestClassifier\n",
        "from matplotlib import pyplot\n",
        "\n",
        "print(\"Tree Depth vs Model Accuracy\")\n",
        "# get a list of models to evaluate\n",
        "def get_models():\n",
        "\tmodels = dict()\n",
        "\t# consider tree depths from 1 to 7 and None=full\n",
        "\tdepths = [i for i in range(1,8)] + [None]\n",
        "\tfor n in depths:\n",
        "\t\tmodels[str(n)] = RandomForestClassifier(max_depth=n)\n",
        "\treturn models\n",
        "\n",
        "# evaluate a given model using cross-validation\n",
        "def evaluate_model(model, X, y):\n",
        "\t# define the evaluation procedure\n",
        "\tcv = RepeatedStratifiedKFold(n_splits=10, n_repeats=3, random_state=1)\n",
        "\t# evaluate the model and collect the results\n",
        "\tscores = cross_val_score(model, X, y, scoring='accuracy', cv=cv, n_jobs=-1)\n",
        "\treturn scores\n",
        "\n",
        "# get the models to evaluate\n",
        "models = get_models()\n",
        "# evaluate the models and store results\n",
        "results, names = list(), list()\n",
        "for name, model in models.items():\n",
        "\t# evaluate the model\n",
        "\tscores = evaluate_model(model, X, y)\n",
        "\t# store the results\n",
        "\tresults.append(scores)\n",
        "\tnames.append(name)\n",
        "\t# summarize the performance along the way\n",
        "\tprint('>%s %.3f (%.3f)' % (name, mean(scores), std(scores)))\n",
        " \n",
        "print(\" BOX PLOT OF RANDOM FOREST MAXIMUM TREE DEPTH vs CLASSIFICATION ACCURACY\")\n",
        "# plot model performance for comparison\n",
        "pyplot.boxplot(results, labels=names, showmeans=True)\n",
        "pyplot.show()"
      ],
      "execution_count": null,
      "outputs": [
        {
          "output_type": "stream",
          "name": "stdout",
          "text": [
            "Tree Depth vs Model Accuracy\n",
            ">1 0.924 (0.032)\n",
            ">2 0.947 (0.031)\n",
            ">3 0.955 (0.026)\n",
            ">4 0.956 (0.030)\n",
            ">5 0.959 (0.027)\n",
            ">6 0.961 (0.026)\n",
            ">7 0.961 (0.027)\n",
            ">None 0.961 (0.026)\n",
            " BOX PLOT OF RANDOM FOREST MAXIMUM TREE DEPTH vs CLASSIFICATION ACCURACY\n"
          ]
        },
        {
          "output_type": "display_data",
          "data": {
            "image/png": "[encoded data removed]",
            "text/plain": [
              "<Figure size 432x288 with 1 Axes>"
            ]
          },
          "metadata": {
            "needs_background": "light"
          }
        }
      ]
    },
    {
      "cell_type": "markdown",
      "metadata": {
        "id": "SxpNkzBK5g_0"
      },
      "source": [
        "- In this case, we can see that larger depth results in better model performance, with the default of no maximum depth achieving the best performance on this dataset.\n",
        "- A box and whisker plot is created for the distribution of accuracy scores for each configured maximum tree depth.\n",
        "- In this case, we can see a trend of improved performance with increase in tree depth, supporting the default of no maximum depth.\n",
        "\n",
        "\n"
      ]
    },
    {
      "cell_type": "markdown",
      "metadata": {
        "id": "K_RgKyAm86iZ"
      },
      "source": [
        "**Important Hyperparameters**\n",
        "\n",
        "Hyperparameters are used in random forests to either enhance the performance and predictive power of models or to make the model faster.\n",
        "\n",
        "**Following hyperparameters increases the predictive power:**\n",
        "\n",
        "1. **n_estimators–** number of trees the algorithm builds before averaging the predictions.\n",
        "\n",
        "2. **max_features–** maximum number of features random forest considers splitting a node.\n",
        "\n",
        "3. **mini_sample_leaf–** determines the minimum number of leaves required to split an internal node.\n",
        "\n",
        "**Following hyperparameters increases the speed:**\n",
        "\n",
        "1. **n_jobs–** it tells the engine how many processors it is allowed to use. If the value is 1, it can use only one processor but if the value is -1 there is no limit.\n",
        "\n",
        "2. **random_state–** controls randomness of the sample. The model will always produce the same results if it has a definite value of random state and if it has been given the same hyperparameters and the same training data.\n",
        "\n",
        "3. **oob_score –** OOB means out of the bag. It is a random forest cross-validation method. In this one-third of the sample is not used to train the data instead used to evaluate its performance. These samples are called out of bag samples."
      ]
    },
    {
      "cell_type": "code",
      "metadata": {
        "colab": {
          "base_uri": "https://localhost:8080/",
          "height": 841
        },
        "id": "4YAyRd658ZoP",
        "outputId": "71ea947f-0ff7-4c4a-8c9a-0d51a42c8c61"
      },
      "source": [
        "# Feature Importance\n",
        "\n",
        "print(\"Feature vs Importance\")\n",
        "# define the model\n",
        "model = RandomForestRegressor()\n",
        "# fit the model\n",
        "model.fit(X, y)\n",
        "# get importance\n",
        "importance = model.feature_importances_\n",
        "# summarize feature importance\n",
        "for i,v in enumerate(importance):\n",
        "\tprint('Feature: %0d, Score: %.5f' % (i,v))\n",
        "\n",
        "print(\"Plot Feature Importance\")\n",
        "pyplot.bar([x for x in range(len(importance))], importance)\n",
        "pyplot.show()"
      ],
      "execution_count": null,
      "outputs": [
        {
          "output_type": "stream",
          "name": "stdout",
          "text": [
            "Feature vs Importance\n",
            "Feature: 0, Score: 0.00155\n",
            "Feature: 1, Score: 0.01837\n",
            "Feature: 2, Score: 0.00140\n",
            "Feature: 3, Score: 0.00505\n",
            "Feature: 4, Score: 0.00384\n",
            "Feature: 5, Score: 0.00152\n",
            "Feature: 6, Score: 0.00539\n",
            "Feature: 7, Score: 0.06155\n",
            "Feature: 8, Score: 0.00203\n",
            "Feature: 9, Score: 0.00225\n",
            "Feature: 10, Score: 0.00312\n",
            "Feature: 11, Score: 0.00265\n",
            "Feature: 12, Score: 0.00212\n",
            "Feature: 13, Score: 0.01419\n",
            "Feature: 14, Score: 0.00216\n",
            "Feature: 15, Score: 0.00267\n",
            "Feature: 16, Score: 0.00331\n",
            "Feature: 17, Score: 0.00332\n",
            "Feature: 18, Score: 0.00242\n",
            "Feature: 19, Score: 0.00487\n",
            "Feature: 20, Score: 0.09551\n",
            "Feature: 21, Score: 0.02931\n",
            "Feature: 22, Score: 0.29336\n",
            "Feature: 23, Score: 0.11481\n",
            "Feature: 24, Score: 0.00939\n",
            "Feature: 25, Score: 0.00274\n",
            "Feature: 26, Score: 0.00783\n",
            "Feature: 27, Score: 0.29573\n",
            "Feature: 28, Score: 0.00322\n",
            "Feature: 29, Score: 0.00430\n",
            "Plot Feature Importance\n"
          ]
        },
        {
          "output_type": "display_data",
          "data": {
            "image/png": "[encoded data removed]",
            "text/plain": [
              "<Figure size 432x288 with 1 Axes>"
            ]
          },
          "metadata": {
            "needs_background": "light"
          }
        }
      ]
    },
    {
      "cell_type": "markdown",
      "metadata": {
        "id": "Brsd2UxDGwOS"
      },
      "source": [
        "So from the above plot we can say 6 important variavles are there (6 high bars)"
      ]
    }
  ]
}